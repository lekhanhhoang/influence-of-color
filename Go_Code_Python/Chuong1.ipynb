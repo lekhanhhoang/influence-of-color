{
 "cells": [
  {
   "cell_type": "code",
   "execution_count": null,
   "id": "eaca7c50",
   "metadata": {},
   "outputs": [],
   "source": [
    "#Một dự án machine learning tập trung vào mô hình dự đoán có thể chia thành 6 nhiệm vụ chính:\n",
    "#1. Xác định vấn đề\n",
    "#2. Phân tích dữ liệu\n",
    "#3. Chuẩn bị dữ liệu\n",
    "#4. Đánh giá thuật toán\n",
    "#5. Cải thiện kết quả\n",
    "#6. Triển khai kết quả\n",
    "\n",
    "#Kho công thức = kho kĩ năng"
   ]
  },
  {
   "cell_type": "code",
   "execution_count": null,
   "id": "4215144c",
   "metadata": {},
   "outputs": [],
   "source": []
  }
 ],
 "metadata": {
  "language_info": {
   "name": "python"
  }
 },
 "nbformat": 4,
 "nbformat_minor": 5
}
