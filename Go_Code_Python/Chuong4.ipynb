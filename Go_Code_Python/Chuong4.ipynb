{
 "cells": [
  {
   "cell_type": "code",
   "execution_count": null,
   "id": "9eca1b79",
   "metadata": {},
   "outputs": [],
   "source": [
    "                                    # Chương 4 Cách Nạp Dữ Liệu Machine Learning"
   ]
  },
  {
   "cell_type": "code",
   "execution_count": 11,
   "id": "e5705d86",
   "metadata": {},
   "outputs": [
    {
     "name": "stdout",
     "output_type": "stream",
     "text": [
      "['Pregnancies', 'Glucose', 'BloodPressure', 'SkinThickness', 'Insulin', 'BMI', 'DiabetesPedigreeFunction', 'Age', 'Outcome']\n",
      "(768, 9)\n"
     ]
    }
   ],
   "source": [
    "import csv\n",
    "import numpy\n",
    "\n",
    "filename = 'diabetes.csv'\n",
    "with open(filename, 'r') as raw_data:\n",
    "    reader = csv.reader(raw_data, delimiter=',', quoting=csv.QUOTE_NONE)\n",
    "    header=next(reader)\n",
    "    x = [row for row in reader]\n",
    "data = numpy.array(x, dtype='float')\n",
    "print(header)\n",
    "print(data.shape)\n"
   ]
  },
  {
   "cell_type": "code",
   "execution_count": null,
   "id": "326a55db",
   "metadata": {},
   "outputs": [
    {
     "name": "stdout",
     "output_type": "stream",
     "text": [
      "(769, 9)\n"
     ]
    }
   ],
   "source": [
    "from pandas import read_csv\n",
    "filename = 'diabetes.csv'\n",
    "names = ['preg', 'plas', 'pres', 'skin', 'test', 'mass', 'pedi', 'age', 'class']\n",
    "data = read_csv(filename, names=names) # đọc cả dòng tiêu đề\n",
    "print(data.shape)"
   ]
  }
 ],
 "metadata": {
  "kernelspec": {
   "display_name": "base",
   "language": "python",
   "name": "python3"
  },
  "language_info": {
   "codemirror_mode": {
    "name": "ipython",
    "version": 3
   },
   "file_extension": ".py",
   "mimetype": "text/x-python",
   "name": "python",
   "nbconvert_exporter": "python",
   "pygments_lexer": "ipython3",
   "version": "3.12.4"
  }
 },
 "nbformat": 4,
 "nbformat_minor": 5
}
