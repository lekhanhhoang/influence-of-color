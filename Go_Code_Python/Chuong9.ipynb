{
 "cells": [
  {
   "cell_type": "code",
   "execution_count": null,
   "id": "a1a27ea7",
   "metadata": {},
   "outputs": [],
   "source": [
    "                                # CHƯƠNG 9 Đánh giá hiệu suất của các thuật toán học máy với phương pháp lấy mẫu lại"
   ]
  },
  {
   "cell_type": "code",
   "execution_count": null,
   "id": "bb2994dd",
   "metadata": {},
   "outputs": [
    {
     "name": "stdout",
     "output_type": "stream",
     "text": [
      "Accuracy: 78.740%\n"
     ]
    }
   ],
   "source": [
    "# 9.2 chia thành Tập Huấn Luyện và Kiểm Tra\n",
    "from pandas import read_csv\n",
    "from sklearn.model_selection import train_test_split\n",
    "from sklearn.linear_model import LogisticRegression\n",
    "\n",
    "filename = 'pima-indians-diabetes.data.csv'\n",
    "names = ['preg', 'plas', 'pres', 'skin', 'test', 'mass', 'pedi', 'age', 'class']\n",
    "dataframe = read_csv(filename)\n",
    "\n",
    "array = dataframe.values\n",
    "X = array[:,0:8]\n",
    "Y = array[:,8]\n",
    "test_size = 0.33\n",
    "seed = 7\n",
    "X_train, X_test, Y_train, Y_test = train_test_split(X, Y, test_size=test_size,\n",
    "random_state=seed)\n",
    "model = LogisticRegression(max_iter=200)\n",
    "model.fit(X_train, Y_train)\n",
    "result = model.score(X_test, Y_test)\n",
    "print(f\"Accuracy: {result * 100.0:.3f}%\")\n"
   ]
  },
  {
   "cell_type": "code",
   "execution_count": null,
   "id": "5c032eaf",
   "metadata": {},
   "outputs": [
    {
     "name": "stdout",
     "output_type": "stream",
     "text": [
      "Accuracy: 77.216% (4.968%)\n"
     ]
    }
   ],
   "source": [
    "# 9.3 xác thực chéo K-fold\n",
    "from pandas import read_csv\n",
    "from sklearn.model_selection import KFold\n",
    "from sklearn.model_selection import cross_val_score\n",
    "from sklearn.linear_model import LogisticRegression\n",
    "\n",
    "filename = 'pima-indians-diabetes.data.csv'\n",
    "names = ['preg', 'plas', 'pres', 'skin', 'test', 'mass', 'pedi', 'age', 'class']\n",
    "dataframe = read_csv(filename)\n",
    "\n",
    "array = dataframe.values\n",
    "X = array[:,0:8]\n",
    "Y = array[:,8]\n",
    "num_folds = 10\n",
    "seed = 7\n",
    "kfold = KFold(n_splits=num_folds, shuffle=True, random_state=seed)\n",
    "model = LogisticRegression(max_iter=1000)\n",
    "results = cross_val_score(model, X, Y, cv=kfold)\n",
    "print(f\"Accuracy: {results.mean() * 100.0:.3f}% ({results.std() * 100.0:.3f}%)\")\n",
    "\n"
   ]
  },
  {
   "cell_type": "code",
   "execution_count": null,
   "id": "7b4f175d",
   "metadata": {},
   "outputs": [
    {
     "name": "stdout",
     "output_type": "stream",
     "text": [
      "Accuracy: 77.604% (41.689%)\n"
     ]
    }
   ],
   "source": [
    "#9.4 Xác Thực Chéo Bỏ Qua Một Phần (Leave One Out Cross Validation)\n",
    "from pandas import read_csv\n",
    "from sklearn.model_selection import LeaveOneOut\n",
    "from sklearn.model_selection import cross_val_score\n",
    "from sklearn.linear_model import LogisticRegression\n",
    "\n",
    "filename = 'pima-indians-diabetes.data.csv'\n",
    "names = ['preg', 'plas', 'pres', 'skin', 'test', 'mass', 'pedi', 'age', 'class']\n",
    "dataframe = read_csv(filename)\n",
    "\n",
    "array = dataframe.values\n",
    "X = array[:,0:8]\n",
    "Y = array[:,8]\n",
    "loocv = LeaveOneOut()\n",
    "model = LogisticRegression(max_iter=1000)\n",
    "results = cross_val_score(model, X, Y, cv=loocv)\n",
    "print(f\"Accuracy: {results.mean()*100.0:.3f}% ({results.std()*100.0:.3f}%)\")\n"
   ]
  },
  {
   "cell_type": "code",
   "execution_count": null,
   "id": "7957160a",
   "metadata": {},
   "outputs": [
    {
     "name": "stdout",
     "output_type": "stream",
     "text": [
      "Accuracy: 76.535% (2.235%)\n"
     ]
    }
   ],
   "source": [
    "# 9.5 Chia Ngẫu Nhiên Lặp Lại (Repeated Random Test-Train Splits)\n",
    "from pandas import read_csv\n",
    "from sklearn.model_selection import ShuffleSplit\n",
    "from sklearn.model_selection import cross_val_score\n",
    "from sklearn.linear_model import LogisticRegression\n",
    "\n",
    "filename = 'pima-indians-diabetes.data.csv'\n",
    "names = ['preg', 'plas', 'pres', 'skin', 'test', 'mass', 'pedi', 'age', 'class']\n",
    "dataframe = read_csv(filename)\n",
    "\n",
    "array = dataframe.values\n",
    "X = array[:,0:8]\n",
    "Y = array[:,8]\n",
    "n_splits = 10\n",
    "test_size = 0.33\n",
    "seed = 7\n",
    "kfold = ShuffleSplit(n_splits=n_splits, test_size=test_size, random_state=seed)\n",
    "model = LogisticRegression(max_iter=500)\n",
    "results = cross_val_score(model, X, Y, cv=kfold)\n",
    "print(f\"Accuracy: {results.mean() * 100.0:.3f}% ({results.std() * 100.0:.3f}%)\")\n",
    "\n"
   ]
  },
  {
   "cell_type": "code",
   "execution_count": null,
   "id": "3bf3e69e",
   "metadata": {},
   "outputs": [],
   "source": [
    "# Tóm tắt chương 9\n",
    "# Tìm hiểu các kỹ thuật thống kê mà có thể sử dụng để ước lượng hiệu suất của các thuật toán học máy, được gọi là phương pháp lấy\n",
    "#mẫu lại Cụ thể là về:\n",
    "    # Train and Test Sets.\n",
    "    # Cross Validation.\n",
    "    # Leave One Out Cross Validation.\n",
    "    # Repeated Random Test-Train Splits."
   ]
  }
 ],
 "metadata": {
  "kernelspec": {
   "display_name": "base",
   "language": "python",
   "name": "python3"
  },
  "language_info": {
   "codemirror_mode": {
    "name": "ipython",
    "version": 3
   },
   "file_extension": ".py",
   "mimetype": "text/x-python",
   "name": "python",
   "nbconvert_exporter": "python",
   "pygments_lexer": "ipython3",
   "version": "3.12.4"
  }
 },
 "nbformat": 4,
 "nbformat_minor": 5
}
