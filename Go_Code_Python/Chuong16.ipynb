{
 "cells": [
  {
   "cell_type": "code",
   "execution_count": 1,
   "id": "6092fda6",
   "metadata": {},
   "outputs": [
    {
     "name": "stdout",
     "output_type": "stream",
     "text": [
      "ERROR! Session/line number was not unique in database. History logging moved to new session 9\n",
      "0.27610844129292433\n",
      "1.0\n"
     ]
    }
   ],
   "source": [
    "import numpy\n",
    "from pandas import read_csv\n",
    "from sklearn.linear_model import Ridge\n",
    "from sklearn.model_selection import GridSearchCV\n",
    "filename= 'pima-indians-diabetes.data.csv'\n",
    "names=['preg', 'plas', 'pres', 'skin', 'test', 'mass', 'pedi', 'age', 'class']\n",
    "dataframe=read_csv(filename,names=names)\n",
    "array=dataframe.values\n",
    "X= array[:,0:8]\n",
    "Y= array[:,8]\n",
    "alphas=numpy.array([1,0.1,0.01,0.001,0.0001,0])\n",
    "param_grid=dict(alpha=alphas)\n",
    "model=Ridge()\n",
    "grid=GridSearchCV(estimator=model,param_grid=param_grid)\n",
    "grid.fit(X,Y)\n",
    "print(grid.best_score_)\n",
    "print(grid.best_estimator_.alpha)"
   ]
  },
  {
   "cell_type": "code",
   "execution_count": 2,
   "id": "ab7025aa",
   "metadata": {},
   "outputs": [
    {
     "name": "stdout",
     "output_type": "stream",
     "text": [
      "0.2761075573402853\n",
      "0.9779895119966027\n"
     ]
    }
   ],
   "source": [
    "import numpy\n",
    "from pandas import read_csv\n",
    "from scipy.stats import uniform\n",
    "from sklearn.linear_model import Ridge\n",
    "from sklearn.model_selection import RandomizedSearchCV\n",
    "filename= 'pima-indians-diabetes.data.csv'\n",
    "names=['preg', 'plas', 'pres', 'skin', 'test', 'mass', 'pedi', 'age', 'class']\n",
    "dataframe=read_csv(filename,names=names)\n",
    "array=dataframe.values\n",
    "X= array[:,0:8]\n",
    "Y= array[:,8]\n",
    "param_grid={'alpha':uniform()}\n",
    "model=Ridge()\n",
    "rsearch=RandomizedSearchCV(estimator=model,param_distributions=param_grid,n_iter=100,\n",
    "random_state=7)\n",
    "rsearch.fit(X,Y)\n",
    "print(rsearch.best_score_)\n",
    "print(rsearch.best_estimator_.alpha)"
   ]
  },
  {
   "cell_type": "code",
   "execution_count": null,
   "id": "b681ac34",
   "metadata": {},
   "outputs": [],
   "source": []
  }
 ],
 "metadata": {
  "kernelspec": {
   "display_name": "Python 3",
   "language": "python",
   "name": "python3"
  },
  "language_info": {
   "codemirror_mode": {
    "name": "ipython",
    "version": 3
   },
   "file_extension": ".py",
   "mimetype": "text/x-python",
   "name": "python",
   "nbconvert_exporter": "python",
   "pygments_lexer": "ipython3",
   "version": "3.11.9"
  }
 },
 "nbformat": 4,
 "nbformat_minor": 5
}
